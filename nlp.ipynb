{
 "cells": [
  {
   "cell_type": "code",
   "execution_count": 1,
   "metadata": {},
   "outputs": [
    {
     "name": "stderr",
     "output_type": "stream",
     "text": [
      "[nltk_data] Downloading package punkt to /Users/admin/nltk_data...\n",
      "[nltk_data]   Package punkt is already up-to-date!\n"
     ]
    }
   ],
   "source": [
    "from nltk.tokenize import sent_tokenize, word_tokenize\n",
    "import nltk as nltk\n",
    "nltk.download('punkt')\n",
    "import pandas as pd\n",
    "import numpy as np\n",
    "import matplotlib.pyplot as plt\n",
    "from sklearn.feature_extraction.text import CountVectorizer\n",
    "from sklearn.model_selection import train_test_split\n",
    "from sklearn.metrics import accuracy_score \n",
    "import warnings\n",
    "warnings.filterwarnings(\"ignore\")"
   ]
  },
  {
   "cell_type": "code",
   "execution_count": 3,
   "metadata": {},
   "outputs": [],
   "source": [
    "news1 = pd.read_csv('news_small2.csv', sep=',', encoding='latin-1')\n",
    "news2 = pd.read_csv('data.csv')\n",
    "news2['news'] = news2['Sentence']\n",
    "news2 = news2.drop('Sentence', axis = 1)\n",
    "news2['sentiment'] = news2['Sentiment']\n",
    "news2 = news2.drop('Sentiment', axis = 1)\n",
    "df = pd.read_csv('Sentences_AllAgree.txt', delimiter = '.@', encoding='latin-1', on_bad_lines='skip')\n",
    "news = pd.concat([news1, news2, df])\n",
    "news = news.iloc[0:len(news1)+len(news2) + len(df)]\n",
    "news = news.drop(['Unnamed: 0'], axis = 1).dropna()\n"
   ]
  },
  {
   "cell_type": "code",
   "execution_count": 4,
   "metadata": {},
   "outputs": [
    {
     "name": "stdout",
     "output_type": "stream",
     "text": [
      "[LibLinear]iter  1 act 6.402e+03 pre 5.763e+03 delta 1.392e+00 f 1.445e+04 |g| 1.409e+04 CG   2\n",
      "cg reaches trust region boundary\n",
      "iter  2 act 1.134e+03 pre 1.000e+03 delta 1.862e+00 f 8.048e+03 |g| 2.774e+03 CG   3\n",
      "cg reaches trust region boundary\n",
      "iter  3 act 6.032e+02 pre 5.776e+02 delta 2.102e+00 f 6.915e+03 |g| 9.041e+02 CG   2\n",
      "cg reaches trust region boundary\n",
      "iter  4 act 7.076e+02 pre 6.859e+02 delta 2.676e+00 f 6.311e+03 |g| 9.777e+02 CG   4\n",
      "cg reaches trust region boundary\n",
      "iter  5 act 5.831e+02 pre 5.697e+02 delta 3.713e+00 f 5.604e+03 |g| 6.478e+02 CG   4\n",
      "cg reaches trust region boundary\n",
      "iter  6 act 4.981e+02 pre 4.844e+02 delta 4.300e+00 f 5.021e+03 |g| 4.763e+02 CG   4\n",
      "cg reaches trust region boundary\n",
      "iter  7 act 4.723e+02 pre 4.391e+02 delta 4.982e+00 f 4.523e+03 |g| 5.289e+02 CG   6\n",
      "cg reaches trust region boundary\n",
      "iter  8 act 3.732e+02 pre 3.849e+02 delta 5.657e+00 f 4.050e+03 |g| 3.919e+02 CG   6\n",
      "cg reaches trust region boundary\n",
      "iter  9 act 2.203e+02 pre 2.761e+02 delta 5.657e+00 f 3.677e+03 |g| 2.206e+02 CG   8\n",
      "cg reaches trust region boundary\n",
      "iter 10 act -5.573e+00 pre 2.566e+02 delta 2.798e+00 f 3.457e+03 |g| 1.785e+02 CG   9\n",
      "cg reaches trust region boundary\n",
      "iter 10 act 6.558e+01 pre 1.693e+02 delta 1.746e+00 f 3.457e+03 |g| 1.785e+02 CG   6\n",
      "cg reaches trust region boundary\n",
      "iter 11 act 1.606e+01 pre 1.335e+02 delta 8.731e-01 f 3.391e+03 |g| 1.596e+02 CG   4\n",
      "cg reaches trust region boundary\n",
      "iter 12 act 6.609e+01 pre 8.427e+01 delta 8.731e-01 f 3.375e+03 |g| 1.966e+02 CG   2\n",
      "cg reaches trust region boundary\n",
      "iter 13 act 3.677e+01 pre 3.698e+01 delta 1.004e+00 f 3.309e+03 |g| 1.749e+02 CG   5\n",
      "cg reaches trust region boundary\n",
      "iter 14 act 1.964e+01 pre 1.949e+01 delta 1.031e+00 f 3.272e+03 |g| 5.060e+01 CG   4\n",
      "cg reaches trust region boundary\n",
      "iter 15 act 2.498e+01 pre 2.518e+01 delta 1.160e+00 f 3.253e+03 |g| 9.297e+01 CG   5\n",
      "cg reaches trust region boundary\n",
      "iter 16 act 2.079e+01 pre 2.063e+01 delta 1.256e+00 f 3.228e+03 |g| 5.856e+01 CG   5\n",
      "cg reaches trust region boundary\n",
      "iter 17 act 2.266e+01 pre 2.267e+01 delta 1.488e+00 f 3.207e+03 |g| 8.548e+01 CG   6\n",
      "cg reaches trust region boundary\n",
      "iter 18 act 2.026e+01 pre 2.018e+01 delta 1.845e+00 f 3.184e+03 |g| 4.979e+01 CG   7\n",
      "cg reaches trust region boundary\n",
      "iter 19 act 1.607e+01 pre 1.600e+01 delta 1.903e+00 f 3.164e+03 |g| 4.215e+01 CG   7\n",
      "cg reaches trust region boundary\n",
      "iter 20 act 1.353e+01 pre 1.344e+01 delta 1.957e+00 f 3.148e+03 |g| 5.646e+01 CG  10\n",
      "cg reaches trust region boundary\n",
      "iter 21 act 6.684e+00 pre 6.687e+00 delta 1.981e+00 f 3.134e+03 |g| 3.031e+01 CG  15\n",
      "iter 22 act 6.944e-01 pre 6.954e-01 delta 1.981e+00 f 3.128e+03 |g| 7.396e+00 CG  25\n",
      "iter 23 act 1.403e-02 pre 1.402e-02 delta 1.981e+00 f 3.127e+03 |g| 6.023e-01 CG  34\n",
      "iter  1 act 6.771e+03 pre 5.932e+03 delta 1.303e+01 f 1.445e+04 |g| 4.561e+03 CG  10\n",
      "cg reaches trust region boundary\n",
      "iter  2 act 2.055e+03 pre 1.704e+03 delta 1.696e+01 f 7.679e+03 |g| 1.157e+03 CG  10\n",
      "cg reaches trust region boundary\n",
      "iter  3 act 9.548e+02 pre 8.539e+02 delta 1.922e+01 f 5.624e+03 |g| 4.590e+02 CG  13\n",
      "iter  4 act 2.237e+02 pre 2.183e+02 delta 1.922e+01 f 4.670e+03 |g| 1.513e+02 CG  27\n",
      "iter  5 act 8.629e+00 pre 8.620e+00 delta 1.922e+01 f 4.446e+03 |g| 3.652e+01 CG  27\n",
      "iter  6 act 5.211e-01 pre 5.115e-01 delta 1.922e+01 f 4.437e+03 |g| 4.666e+00 CG  34\n",
      "iter  7 act 1.441e-02 pre 1.404e-02 delta 1.922e+01 f 4.437e+03 |g| 7.035e-01 CG  36\n",
      "iter  1 act 6.869e+03 pre 6.023e+03 delta 9.146e+00 f 1.445e+04 |g| 8.590e+03 CG   7\n",
      "cg reaches trust region boundary\n",
      "iter  2 act 2.291e+03 pre 1.958e+03 delta 1.183e+01 f 7.581e+03 |g| 1.867e+03 CG   6\n",
      "cg reaches trust region boundary\n",
      "iter  3 act 1.460e+03 pre 1.257e+03 delta 1.478e+01 f 5.290e+03 |g| 7.650e+02 CG   8\n",
      "cg reaches trust region boundary\n",
      "iter  4 act 8.972e+02 pre 8.012e+02 delta 1.713e+01 f 3.830e+03 |g| 4.671e+02 CG  10\n",
      "iter  5 act 2.731e+02 pre 2.627e+02 delta 1.713e+01 f 2.933e+03 |g| 2.128e+02 CG  18\n",
      "iter  6 act 1.317e+01 pre 1.285e+01 delta 1.713e+01 f 2.660e+03 |g| 6.623e+01 CG  16\n",
      "iter  7 act 1.711e+00 pre 1.714e+00 delta 1.713e+01 f 2.647e+03 |g| 8.241e+00 CG  25\n",
      "iter  8 act 1.629e-02 pre 1.629e-02 delta 1.713e+01 f 2.645e+03 |g| 7.526e-01 CG  27\n"
     ]
    }
   ],
   "source": [
    "words = news['news']\n",
    "sentiment = news['sentiment']\n",
    "vectorizer = CountVectorizer(\n",
    "    analyzer = 'word',\n",
    "    lowercase = False,\n",
    ")\n",
    "features = vectorizer.fit_transform(words)\n",
    "features_nd = features.toarray()\n",
    "X_train, X_test, y_train, y_test  = train_test_split(\n",
    "        features_nd, \n",
    "        sentiment,\n",
    "        train_size=0.99, \n",
    "        random_state=1)\n",
    "from sklearn.linear_model import LogisticRegression\n",
    "log_model = LogisticRegression(solver = 'liblinear', max_iter = 750,verbose = 1,)\n",
    "log_model = log_model.fit(X_train,y_train)"
   ]
  },
  {
   "cell_type": "code",
   "execution_count": 5,
   "metadata": {},
   "outputs": [
    {
     "name": "stdout",
     "output_type": "stream",
     "text": [
      "The accuracy of this model is: 88.15%\n"
     ]
    }
   ],
   "source": [
    "y_pred = log_model.predict(X_test)\n",
    "print(f'The accuracy of this model is: {round(100*accuracy_score(y_test, y_pred),2)}%')"
   ]
  },
  {
   "cell_type": "code",
   "execution_count": 6,
   "metadata": {},
   "outputs": [],
   "source": [
    "news1 = pd.read_csv('news_small2.csv', sep=',', encoding='latin-1')\n",
    "news2 = pd.read_csv('data.csv')\n",
    "news2['news'] = news2['Sentence']\n",
    "news2 = news2.drop('Sentence', axis = 1)\n",
    "news2['sentiment'] = news2['Sentiment']\n",
    "news2 = news2.drop('Sentiment', axis = 1)\n",
    "df = pd.read_csv('Sentences_AllAgree.txt', delimiter = '.@', encoding='latin-1', on_bad_lines='skip')\n",
    "news = pd.concat([news1, news2, df])\n",
    "news = news.iloc[0:len(news1)+len(news2) + len(df)]\n",
    "news = news.drop(['Unnamed: 0'], axis = 1).dropna()\n",
    "\n",
    "news.to_csv('N.csv')"
   ]
  },
  {
   "cell_type": "code",
   "execution_count": 7,
   "metadata": {},
   "outputs": [],
   "source": [
    "def SentimentPrint(sentence):\n",
    "    dict = {'news':sentence, 'sentiment':'-'}\n",
    "    news = pd.read_csv('N.csv', delimiter = ',')\n",
    "    news = news.append(dict, ignore_index=True)\n",
    "    words = news['news']\n",
    "    sentiment = news['sentiment']\n",
    "    vectorizer = CountVectorizer(\n",
    "    analyzer = 'word',\n",
    "    lowercase = False,\n",
    "    )\n",
    "    features = vectorizer.fit_transform(words)\n",
    "    features_nd = features.toarray() \n",
    "    n = len(features_nd)\n",
    "    X = features_nd[-1:]\n",
    "    X = X[0][-14167:]\n",
    "    sentiment = log_model.predict(X.reshape(1,-1))[0]\n",
    "    print(f'News: {words[len(news)-1]}, Prediction: {sentiment}')   \n",
    "    \n",
    "def SentimentReturn(sentence):\n",
    "    dict = {'news':sentence, 'sentiment':'-'}\n",
    "    news = pd.read_csv('N.csv', delimiter = ',')\n",
    "    news = news.append(dict, ignore_index=True)\n",
    "    words = news['news']\n",
    "    sentiment = news['sentiment']\n",
    "    vectorizer = CountVectorizer(\n",
    "    analyzer = 'word',\n",
    "    lowercase = False,\n",
    "    )\n",
    "    features = vectorizer.fit_transform(words)\n",
    "    features_nd = features.toarray() \n",
    "    n = len(features_nd)\n",
    "    X = features_nd[-1:]\n",
    "    X = X[0][-14167:]\n",
    "    sentiment = log_model.predict(X.reshape(1,-1))[0]\n",
    "    return sentiment\n",
    "    "
   ]
  },
  {
   "cell_type": "code",
   "execution_count": 8,
   "metadata": {},
   "outputs": [
    {
     "name": "stdout",
     "output_type": "stream",
     "text": [
      "News: Diamondback Energy close to buying Endeavor in $25bn US Oil Deal, Prediction: positive\n"
     ]
    }
   ],
   "source": [
    "SentimentPrint(\"Diamondback Energy close to buying Endeavor in $25bn US Oil Deal\")"
   ]
  }
 ],
 "metadata": {
  "kernelspec": {
   "display_name": "obb",
   "language": "python",
   "name": "python3"
  },
  "language_info": {
   "codemirror_mode": {
    "name": "ipython",
    "version": 3
   },
   "file_extension": ".py",
   "mimetype": "text/x-python",
   "name": "python",
   "nbconvert_exporter": "python",
   "pygments_lexer": "ipython3",
   "version": "3.9.6"
  },
  "orig_nbformat": 4
 },
 "nbformat": 4,
 "nbformat_minor": 2
}
